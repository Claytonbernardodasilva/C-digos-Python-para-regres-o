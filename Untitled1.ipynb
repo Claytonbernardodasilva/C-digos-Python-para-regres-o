{
 "cells": [
  {
   "cell_type": "code",
   "execution_count": 1,
   "id": "71e8972a-9254-45e6-8e32-374399001e98",
   "metadata": {},
   "outputs": [],
   "source": [
    "import pandas as pd\n",
    "import seaborn as sns\n",
    "import matplotlib.pyplot as plt"
   ]
  },
  {
   "cell_type": "code",
   "execution_count": 2,
   "id": "e7ee98b3-6449-43f8-890d-e5e2db323bc9",
   "metadata": {},
   "outputs": [],
   "source": [
    "# Ler os dados corrigindo a estrutura\n",
    "df = pd.read_csv(\"C:/Users/clayton.silva/OneDrive - Autoliv/Desktop/Estudo estatistico - espessura da camada de tinta.csv\", sep=';', header=None, names=['Descrição', 'Resultado'])"
   ]
  },
  {
   "cell_type": "code",
   "execution_count": 3,
   "id": "f2ef258f-597d-4ff1-801b-f6e1d6e485f2",
   "metadata": {},
   "outputs": [
    {
     "name": "stdout",
     "output_type": "stream",
     "text": [
      "                                           Descrição  Resultado\n",
      "0                                            Posição  Resultado\n",
      "1  Espessura da camada de tinta posição 10H - Med...      28,86\n",
      "2  Espessura da camada de tinta posição 10H - Med...       15,1\n",
      "3  Espessura da camada de tinta posição 10H - Med...       47,1\n",
      "4  Espessura da camada de tinta posição 10H - Med...      20,07\n"
     ]
    }
   ],
   "source": [
    "print(df.head())"
   ]
  },
  {
   "cell_type": "code",
   "execution_count": null,
   "id": "d2763e78-dc86-4c61-ba91-6ef1ca2a625a",
   "metadata": {},
   "outputs": [],
   "source": []
  },
  {
   "cell_type": "code",
   "execution_count": null,
   "id": "f4d1eb9e-2e1e-49b3-a052-632405e3d8b2",
   "metadata": {},
   "outputs": [],
   "source": []
  }
 ],
 "metadata": {
  "kernelspec": {
   "display_name": "Python 3 (ipykernel)",
   "language": "python",
   "name": "python3"
  },
  "language_info": {
   "codemirror_mode": {
    "name": "ipython",
    "version": 3
   },
   "file_extension": ".py",
   "mimetype": "text/x-python",
   "name": "python",
   "nbconvert_exporter": "python",
   "pygments_lexer": "ipython3",
   "version": "3.12.4"
  }
 },
 "nbformat": 4,
 "nbformat_minor": 5
}
